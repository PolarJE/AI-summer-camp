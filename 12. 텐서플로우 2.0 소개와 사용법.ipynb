{
 "cells": [
  {
   "cell_type": "markdown",
   "metadata": {},
   "source": [
    "# 12. 텐서플로우 2.0 소개와 사용법"
   ]
  },
  {
   "cell_type": "markdown",
   "metadata": {},
   "source": [
    "## 텐서플로우 (Tensorflow)\n",
    "\n",
    "Tensor(다차원 배열로 나타내는 데이터)+Flow = 데이터를 흘려보낸다.\n",
    "\n",
    "구글에서 제공하는 **유연하고, 효율적이며, 확장성이 있는** 딥러닝 프레임워크. 대형 클러스터 컴퓨터부터 스마트폰까지 다양한 디바이스에서 동작. Python 2/3, C/C++ 지원\n",
    "\n",
    "## 텐서플로우의 강력한 툴 : 텐서보드\n",
    "학습 과정에서 시각적인 분석 방법을 쉽게 사용 가능\n",
    "\n",
    "<img src=\"./img/12-1.PNG\"></img>\n",
    "\n",
    "## 텐서플로우의 이점, '추상화'\n",
    "\n",
    "텐서플로우가 머신러닝 개발에서 제공하는 가장 큰 이점은 추상화(abstraction)다. 알고리즘 구현의 세부적인 면에 신경을 쓰거나 한 함수의 출력을 다른 함수의 입력으로 집어넣기 위한 적절한 방법을 알아내느라 고심할 필요 없이 개발자는 애플리케이션의 전체적인 논리에만 집중할 수 있다. 배후의 세세한 부분은 텐서플로우가 알아서 처리해준다.\n",
    "\n",
    "ref) http://www.itworld.co.kr/insight/109825#csidxe68ab3f61fe357e9213ba34b7ac505c \n",
    "\n",
    "## 텐서플로우 2.0에서 달라지는 점\n",
    "\n",
    "- **Keras**와 **즉시 실행(eager execution)** 을 이용한 쉬운 모델 작성\n",
    "    - eager execution 은 **그래프 생성 없이** 연산을 즉시 실행. 직관적인 인터페이스, 쉬운 디버깅\n",
    "- 어떤 플랫폼에서든 **튼튼한(robust) 모델** 배포\n",
    "    - 학습된 모델을 다양한 Deployment에서 동작가능\n",
    "- deprecated된 API를 정리하고 중복을 줄여서 **API 단순화**\n",
    "    - 텐서플로우에 비해 고차원(High-Level) API. 고차원 API의 사용을 통해 사용자가 쉽게 개발 가능\n",
    "\n",
    "ref) https://medium.com/@ljb7977/%ED%85%90%EC%84%9C%ED%94%8C%EB%A1%9C%EC%9A%B0-2-0%EC%97%90%EC%84%9C-%EB%8B%AC%EB%9D%BC%EC%A7%80%EB%8A%94-%EC%A0%90-6e233e0c7fbe"
   ]
  },
  {
   "cell_type": "code",
   "execution_count": null,
   "metadata": {},
   "outputs": [],
   "source": [
    "#[Graph model의 모델 예시]\n",
    "\n",
    "import tensorflow as tf\n",
    "\n",
    "a=tf.constant(20)\n",
    "b=tf.constant(15)\n",
    "sess = tf.Session()   #세션(Session) : 그래프를 실행하기 위해 필요. 오퍼레이션의 실행 환경을 캡슐화\n",
    "print(sess.run(a+b))"
   ]
  },
  {
   "cell_type": "code",
   "execution_count": 5,
   "metadata": {},
   "outputs": [
    {
     "name": "stdout",
     "output_type": "stream",
     "text": [
      "25\n"
     ]
    }
   ],
   "source": [
    "#[텐서플로우 처리 순서]\n",
    "\n",
    "import tensorflow as tf\n",
    "x = tf.constant(10,name='x') # x라는 변수 생성, 35 값으로 초기화\n",
    "                             # constant는 값 변경 X\n",
    "y = tf.Variable(x+15,name='y') # y라는 변수 생성, 방정식 x+15 정의\n",
    "                               # Variable는 값 변경 가능\n",
    "model =  tf.global_variables_initializer() # 모델 내부의 변수 초기화\n",
    "with tf.Session() as session: # 값을 계산하기 위해 세션 생성\n",
    "    session.run(model) # 만든 모델 실행\n",
    "    print(session.run(y)) # 변수 y만 실행, 현재 값 출력"
   ]
  },
  {
   "cell_type": "markdown",
   "metadata": {},
   "source": [
    "---\n",
    "### 텐서플로우 즉시 실행 (TensorFlow Eager Execution)\n",
    "\n",
    "- 기존 그래프 기반 방식에서 벗어나 **그래프 생성 없이(Session.run으로 실행할 필요 없이)** 연산을 즉시 실행하는 명령형 프로그래밍 환경\n",
    "\n",
    "- **직관적인 인터페이스** : 사용자 코드를 자연스럽게 구조화 하고, 파이썬 데이터 구조를 사용함. 작은 모델과 작은 데이터에 대해서도 빠르게 반복수행 가능\n",
    "\n",
    "- **쉬운 디버깅** : 실행중인 모델을 검사하거나 변화사항을 평가할 때 연산들을 직접 호출할 수 있다.\n",
    "\n",
    "- **자연스러운 흐름 제어** : 동적 모델의 명세를 단순화 시켜, 그래프 흐름 제어 대신 파이썬 흐름 제어를 사용할 수 있다.\n",
    "\n",
    "- 각 연산들은 나중에 실행할 계산 그래프를 만드는 것이 아니라, 실제 값이 반환됨.\n",
    "\n",
    "- TensorFlow 1.7 버전 이상에서 제공\n",
    "\n",
    "- Numpy와 호환성이 매우 뛰어남"
   ]
  },
  {
   "cell_type": "markdown",
   "metadata": {},
   "source": [
    "### 설정 및 기본 사용법 (Setup and Basic Usage)\n",
    "ref) https://github.com/tgjeon/TF-Eager-Execution-Guide-KR/blob/master/guide.md"
   ]
  },
  {
   "cell_type": "code",
   "execution_count": 2,
   "metadata": {},
   "outputs": [
    {
     "name": "stdout",
     "output_type": "stream",
     "text": [
      "hello, [[4.]]\n"
     ]
    }
   ],
   "source": [
    "# 가장 최신 버전의 텐서플로우로 업그레이드\n",
    "\n",
    "'''$ pip install --upgrade tensorflow'''\n",
    "\n",
    "# 즉시 실행 (eager execution)을 시작하기 위해서, \n",
    "#tf.enable_eager_execution() 구문을 프로그램이나 콘솔세션 제일 첫 부분에 추가하세요. \n",
    "#프로그램을 호출하는 다른 모듈에 이 연산을 추가하지 마세요.\n",
    "\n",
    "from __future__ import absolute_import, division, print_function\n",
    "\n",
    "import tensorflow as tf\n",
    "\n",
    "tf.enable_eager_execution()\n",
    "\n",
    "# 이제 사용자는 텐서플로우 연산을 실행할 수 있고, 결과를 즉시 확인할 수 있습니다\n",
    "\n",
    "tf.executing_eagerly()        # => True\n",
    "\n",
    "x = [[2.]]\n",
    "m = tf.matmul(x, x)\n",
    "print(\"hello, {}\".format(m))  # => \"hello, [[4.]]\""
   ]
  },
  {
   "cell_type": "markdown",
   "metadata": {},
   "source": [
    "### 텐서플로우 자료구조\n",
    "\n",
    "**상수**\n",
    "\n",
    "- tf.constant(value, dtype=None, shape=None, name='Const')\n",
    "    - value : 반환되는 상수값\n",
    "    - shape : Tesnor의 차원\n",
    "    - dtype : 반환되는 Tensor 타입\n",
    "    - name : 상수 이름\n",
    "- tf.zeros(shape, dtype=tf.float32, name=None) : 모든 원소 값이 0인 Tensor 생성\n",
    "- tf.ones(shape, dtype=tf.float32, name=None) : 모든 원소 값이 1인 Tensor 생성\n",
    "- tf.fill(dims, value, name=None) : value로 채워진 Tensor 생성\n",
    "    - dims : 반환되는 Tensor의 차원"
   ]
  },
  {
   "cell_type": "code",
   "execution_count": 10,
   "metadata": {},
   "outputs": [
    {
     "name": "stdout",
     "output_type": "stream",
     "text": [
      "True\n",
      "tf.Tensor(\n",
      "[[1 2]\n",
      " [3 4]], shape=(2, 2), dtype=int32)\n",
      "(2, 2) \n",
      "\n",
      "tf.Tensor(\n",
      "[[[1 2]\n",
      "  [3 4]]], shape=(1, 2, 2), dtype=int32)\n",
      "(1, 2, 2) \n",
      "\n",
      "tf.Tensor([0 0 0], shape=(3,), dtype=int32) \n",
      "\n",
      "tf.Tensor(\n",
      "[[0 0 0]\n",
      " [0 0 0]\n",
      " [0 0 0]], shape=(3, 3), dtype=int32) \n",
      "\n",
      "tf.Tensor(\n",
      "[[[1. 1. 1.]\n",
      "  [1. 1. 1.]]\n",
      "\n",
      " [[1. 1. 1.]\n",
      "  [1. 1. 1.]]], shape=(2, 2, 3), dtype=float32) \n",
      "\n",
      "tf.Tensor(\n",
      "[[9 9 9]\n",
      " [9 9 9]], shape=(2, 3), dtype=int32) \n",
      "\n"
     ]
    }
   ],
   "source": [
    "# [텐서플로우 상수]\n",
    "\n",
    "import tensorflow as tf\n",
    "\n",
    "print(tf.executing_eagerly()) # 즉시 실행 모드가 설정되어있다면 True 반환\n",
    "\n",
    "a = tf.constant([[1,2],[3,4]]) # 텐서플로우 상수 생성\n",
    "print(a)\n",
    "print(a.get_shape(),\"\\n\")\n",
    "\n",
    "expanded_a = tf.expand_dims(a,0)  #2-D 텐서를 3-D 텐서로 차원 확장\n",
    "print(expanded_a)\n",
    "print(expanded_a.get_shape(),\"\\n\")\n",
    "\n",
    "# [상수를 생성하는 여러가지 방법]\n",
    "\n",
    "# [0,0,0] (입력으로 받은 텐서와 같은 shape의 텐서인데 0으로 초기화된 것)\n",
    "zeros = tf.zeros_like([1,2,3],dtype=tf.int32,name = \"zeros_like\")\n",
    "\n",
    "# 0으로 초기화된 3X3 텐서가 만들어짐\n",
    "zeros2 = tf.zeros([3,3],dtype=tf.int32, name = \"zeros\")\n",
    "\n",
    "# 1로 초기화된 2x2x3 텐서가 만들어짐\n",
    "ones = tf.ones([2,2,3], dtype = tf.float32)\n",
    "\n",
    "# 9로 초기화된 2x3 텐서\n",
    "fill = tf.fill([2,3],9, name = \"fill\")\n",
    "\n",
    "for i in [zeros,zeros2,ones,fill]:\n",
    "    print(i,\"\\n\")"
   ]
  }
 ],
 "metadata": {
  "kernelspec": {
   "display_name": "Python 3",
   "language": "python",
   "name": "python3"
  },
  "language_info": {
   "codemirror_mode": {
    "name": "ipython",
    "version": 3
   },
   "file_extension": ".py",
   "mimetype": "text/x-python",
   "name": "python",
   "nbconvert_exporter": "python",
   "pygments_lexer": "ipython3",
   "version": "3.7.3"
  }
 },
 "nbformat": 4,
 "nbformat_minor": 2
}
