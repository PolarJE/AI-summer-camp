{
 "cells": [
  {
   "cell_type": "markdown",
   "metadata": {},
   "source": [
    "# 2-1. 파이썬 데이터 분석 툴 (Numpy, Pandas)"
   ]
  },
  {
   "cell_type": "markdown",
   "metadata": {},
   "source": [
    "---\n",
    "### 넘파이 배열을 생성하는 함수들\n",
    "- np.array(list): list를 넘파이 배열로 생성\n",
    "- np.zeros(shape): 0 이 들어있는 배열 생성\n",
    "- np.ones(shape): 1 이 들어있는 배열 생성\n",
    "- np.empty(shape): 초기화가 없는 값으로 배열을 반환\n",
    "- np.arange(n ,m): range 함수를 이용하여 배열을 생성"
   ]
  },
  {
   "cell_type": "markdown",
   "metadata": {},
   "source": [
    "---\n",
    "### numpy.arange([start, ] stop, [step, ] dtype=None)\n",
    "\n",
    "import numpy as np\n",
    "\n",
    "print(np.arange(3))\n",
    "\n",
    "print(np.arange(3.0))  #dtype값이 주어지지 않았지만 전달된 매개변수로 type 추론\n",
    "\n",
    "print(np.arange(3,7))\n",
    "\n",
    "print(np.arange(3,7,2))"
   ]
  },
  {
   "cell_type": "code",
   "execution_count": 5,
   "metadata": {},
   "outputs": [
    {
     "name": "stdout",
     "output_type": "stream",
     "text": [
      "[1, 2, 3, 4, 5, 1, 2, 3, 4, 5]\n",
      "[1, 2, 3, 4, 5, 1, 2, 3, 4, 5] \n",
      "\n",
      "[10 20 30]\n",
      "[[0 1 2 3 4]\n",
      " [5 6 7 8 9]]\n",
      "(2, 5) 10\n"
     ]
    }
   ],
   "source": [
    "# Python 배열\n",
    "# 리스트를 이용한 연산은 공학 분야에서 사용되는 벡터의 연산과는 다른 결과\n",
    "a = [1,2,3,4,5]\n",
    "print(a*2)\n",
    "print(a+a,\"\\n\")\n",
    "\n",
    "# Numpy 배열\n",
    "# 과학 연산에 사용되는 다차원 배열 처리를 위한 패키지\n",
    "# 숫자 연산을 할 때, 리스트나 Array를 사용하는 것보다 더 효율적이고 편리한 연산 가능\n",
    "import numpy as np\n",
    "a = np.array([10,20,30]) #array() 는 리스트를 Numpy 배열로 변환하는 함수\n",
    "print(a)\n",
    "\n",
    "#arange()는 주어진 구간에서 균일한 간격이 숫자를 만드는 함수\n",
    "b = np.arange(10).reshape(2,5)\n",
    "print(b)\n",
    "print(b.shape, b.size)"
   ]
  },
  {
   "cell_type": "markdown",
   "metadata": {},
   "source": [
    "---\n",
    "### 행렬의 연산과 관련된 함수들\n",
    "- np.transpose(x) / (ndarray)x.T: 배열 x의 전치 행렬을 나타낸다.\n",
    "- np.dot(x, y): 배열 x와 y의 행렬곱을 나타낸다.\n",
    "- (ndarray)x * (ndarray)y : 행렬x와 y의 요소별 곱을 나타낸다.\n",
    "- np.linalg.inv(x): 행렬 x의 역행렬을 배열로 나타낸다.\n",
    "- np.diagonal(x): 정사각 행렬 x의 대각 성분을 추출한다."
   ]
  },
  {
   "cell_type": "markdown",
   "metadata": {},
   "source": [
    "---\n",
    "### Numpy 선형대수 함수(Linear Algebra)\n",
    "\n",
    "- 대각행렬 (Diagonal matrix): np.diag(x)\n",
    "- 내적 (Dot product, Inner product): np.dot(a, b)\n",
    "- 대각합 (Trace): np.trace(x)\n",
    "- 행렬식 (Matrix Determinant): np.linalg.det(x)\n",
    "- 역행렬 (Inverse of a matrix): np.linalg.inv(x)\n",
    "- 고유값 (Eigenvalue), 고유벡터 (Eigenvector): w, v = np.linalg.eig(x)\n",
    "- 특이값 분해 (Singular Value Decomposition): u, s, vh = np.linalg.svd(A)\n",
    "- 연립방정식 해 풀기 (Solve a linear matrix equation): np.linalg.solve(a, b)\n",
    "- 최소자승 해 풀기 (Compute the Least-squares solution): m, c = np.linalg.lstsq(A, y, rcond=None)[0]\n",
    "\n",
    "\n",
    "출처: https://rfriend.tistory.com/380 [R, Python 분석과 프로그래밍 (by R Friend)]"
   ]
  },
  {
   "cell_type": "code",
   "execution_count": 30,
   "metadata": {},
   "outputs": [
    {
     "name": "stdout",
     "output_type": "stream",
     "text": [
      "(2, 3) (2, 3)\n",
      "[[0 5 8]\n",
      " [4 6 7]] \n",
      "\n",
      "[[ 2 -1 -2]\n",
      " [ 2 -2  3]] \n",
      "\n",
      "[[-1  6 15]\n",
      " [ 3  8 10]] \n",
      "\n",
      "[[-1.          0.66666667  0.6       ]\n",
      " [ 3.          0.5         2.5       ]] \n",
      "\n",
      "[[20 15]\n",
      " [28 21]]\n",
      "[[20 15]\n",
      " [28 21]]\n"
     ]
    }
   ],
   "source": [
    "# Numpy 산술연산\n",
    "\n",
    "import numpy as np\n",
    "a = np.array([1,2,3,3,2,5]).reshape(2,3)\n",
    "b = np.array([[-1,3,5],[1,4,2]])\n",
    "print(a.shape, b.shape)\n",
    "\n",
    "print(a+b,'\\n')\n",
    "print(a-b,'\\n')\n",
    "print(a*b,'\\n')\n",
    "print(a/b,'\\n')\n",
    "\n",
    "# 전치행렬 만드는 함수 transpose(), 행렬의 내적을 계산하는 함수 dot()\n",
    "c = np.dot(a,b.transpose())\n",
    "print(c)\n",
    "d = np.dot(a,b.T)\n",
    "print(d)"
   ]
  },
  {
   "cell_type": "markdown",
   "metadata": {},
   "source": [
    "---\n",
    "### 배열의 통계적 정보를 나타내주는 함수들\n",
    "- np.mean(x): 배열 x 의 평균값을 구합니다.\n",
    "- np.median(x): 배열 x 의 중앙값을 구합니다.\n",
    "- np.min(x): 배열 x 의 최솟값을 나타냅니다.\n",
    "- np.max(x): 배열 x 의 최댓값을 나타냅니다.\n",
    "- np.var(x): 배열 x 의 분산을 구합니다.\n",
    "- np.std(x): 배열 x 의 표준편차를 구합니다.\n",
    "---"
   ]
  },
  {
   "cell_type": "code",
   "execution_count": 33,
   "metadata": {},
   "outputs": [
    {
     "name": "stdout",
     "output_type": "stream",
     "text": [
      "배열 z의 최솟값: 0\n",
      "배열 z의 최댓값: 9\n",
      "배열 z의 평균값: 4.5\n",
      "배열 z의 중앙값: 4.5\n",
      "배열 z의 분산값: 8.25\n",
      "배열 z의 표준편차값: 2.8722813232690143\n"
     ]
    }
   ],
   "source": [
    "# Numpy로 통계적 정보 나타내기\n",
    "\n",
    "import numpy as np\n",
    "\n",
    "z = np.arange(10).reshape(2,5)\n",
    "\n",
    "array1 = np.min(z)\n",
    "print(\"배열 z의 최솟값:\", array1)\n",
    "\n",
    "array2 = np.max(z)\n",
    "print(\"배열 z의 최댓값:\", array2)\n",
    "\n",
    "array3 = np.mean(z)\n",
    "print(\"배열 z의 평균값:\", array3)\n",
    "\n",
    "array4 = np.median(z)\n",
    "print(\"배열 z의 중앙값:\", array4)\n",
    "\n",
    "array5 = np.var(z)\n",
    "print(\"배열 z의 분산값:\", array5)\n",
    "\n",
    "array6 = np.std(z)\n",
    "print(\"배열 z의 표준편차값:\", array6)"
   ]
  },
  {
   "cell_type": "markdown",
   "metadata": {},
   "source": [
    "---\n",
    "## Data Analysis를 쉽고 강력하게 하는 방법\n",
    "\n",
    "### Pandas \n",
    ": 행과 열로 이뤄진 데이터 객체를 생성/수정하기 위한 패키지\n",
    "\n",
    "### Pandas 자료구조 : Series\n",
    "    - 1차원 배열과 같은 자료구조\n",
    "    - 1차원 배열의 값 뿐만 아니라 각 값에 연결된 인덱스 값도 저장\n",
    "    - 인덱싱 값을 사용자가 설정 가능\n",
    "    - 인덱싱이 서로 다른 경우에도 인덱싱이 같은 값끼리 덧셈을 수행"
   ]
  },
  {
   "cell_type": "code",
   "execution_count": 41,
   "metadata": {},
   "outputs": [
    {
     "name": "stdout",
     "output_type": "stream",
     "text": [
      "0    34\n",
      "1    15\n",
      "2    -2\n",
      "dtype: int64 \n",
      "\n",
      "2019-07-01    20\n",
      "2019-07-02    -3\n",
      "2019-07-03     7\n",
      "dtype: int64 \n",
      "\n",
      "a    11\n",
      "b    16\n",
      "c    27\n",
      "dtype: int64\n"
     ]
    }
   ],
   "source": [
    "import numpy as np\n",
    "import pandas as pd\n",
    "\n",
    "# Series 정의\n",
    "a = pd.Series([34,15,-2])\n",
    "print(a,'\\n')\n",
    "\n",
    "# 인덱싱 값 설정\n",
    "b = pd.Series([20,-3,7],index = ['2019-07-01','2019-07-02','2019-07-03'])\n",
    "print(b,'\\n')\n",
    "\n",
    "# 인덱싱이 서로 다른 경우의 합\n",
    "st1 = pd.Series([10,20,30], index=['a','b','c'])\n",
    "st2 = pd.Series([-3,-4,1], index = ['c','b','a'])\n",
    "merge = st1+st2\n",
    "print(merge)"
   ]
  },
  {
   "cell_type": "markdown",
   "metadata": {},
   "source": [
    "---\n",
    "### Pandas 자료구조 : DataFrame\n",
    "    - 여러 개의 칼럼(Column)으로 구성된 2차원 배열과 같은 자료구조\n",
    "    - DataFrame 객체를 생성하기 위해서는 딕셔너리를 사용"
   ]
  },
  {
   "cell_type": "code",
   "execution_count": 51,
   "metadata": {},
   "outputs": [
    {
     "name": "stdout",
     "output_type": "stream",
     "text": [
      "           0   1   2   3\n",
      "math     100  99  83  56\n",
      "science   33  50  40  60\n",
      "korean    60  70  80  90\n",
      "0    100\n",
      "1     99\n",
      "2     83\n",
      "3     56\n",
      "Name: math, dtype: int64 \n",
      "\n",
      "0    100\n",
      "1     99\n",
      "2     83\n",
      "3     56\n",
      "Name: math, dtype: int64 \n",
      "\n",
      "          0   1   2   3\n",
      "science  33  50  40  60\n",
      "korean   60  70  80  90 \n",
      "\n",
      "          0   1   2   3\n",
      "science  33  50  40  60\n",
      "korean   60  70  80  90 \n",
      "\n",
      "           0   1   2   3\n",
      "math     100  99  83  56\n",
      "science   33  50  40  60\n",
      "korean    60  70  80  90\n",
      "ethics    70  50  80  90 \n",
      "\n",
      "          0   1   2   3\n",
      "science  33  50  40  60\n",
      "korean   60  70  80  90\n",
      "ethics   70  50  80  90 \n",
      "\n"
     ]
    }
   ],
   "source": [
    "import pandas as pd\n",
    "\n",
    "# DataFrame 정의\n",
    "\n",
    "a = pd.Series([100,99,83,56], name = 'math')\n",
    "b = pd.Series([33,50,40,60], name = 'science')\n",
    "c = pd.Series([60,70,80,90], name = 'korean')\n",
    "\n",
    "score = pd.DataFrame([a,b,c])\n",
    "print(score)\n",
    "\n",
    "# loc(), iloc() 함수를 이용하여 'math'를 추출\n",
    "print(score.loc['math'],'\\n')\n",
    "print(score.iloc[0],'\\n')\n",
    "\n",
    "# loc(), iloc() 함수를 이용하여 'science','korean'만 추출\n",
    "print(score.loc[['science','korean']],'\\n')\n",
    "print(score.iloc[1:3],'\\n') # iloc의 경우 리스트와 같이 마지막 인덱스는 포함되지 않는다는 거 주의!!\n",
    "\n",
    "# 새로운 데이터 'ethics'를 'score'에 추가\n",
    "score.loc['ethics'] = [70,50,80,90]\n",
    "print(score,'\\n')\n",
    "\n",
    "# 'score'에서 'math' 삭제\n",
    "tmp = score.drop(index='math')\n",
    "print(tmp,'\\n')"
   ]
  },
  {
   "cell_type": "markdown",
   "metadata": {},
   "source": [
    "---\n",
    "### DataFrame 연산\n",
    "\n",
    "- np.array와 같이 pd.DataFrame도 연산이 가능\n",
    "\n",
    "- DataFrame의 형태가 다른 경우 연산이 되지 않는 부분은 fill_value를 통해 특정 값으로 고정할 수 있다."
   ]
  },
  {
   "cell_type": "code",
   "execution_count": 53,
   "metadata": {},
   "outputs": [
    {
     "name": "stdout",
     "output_type": "stream",
     "text": [
      "      0     1    2\n",
      "0  16.0   5.0  3.0\n",
      "1   4.0  11.0  6.0\n",
      "2   6.0   0.0  3.0 \n",
      "\n",
      "     0    1    2\n",
      "0  2.0 -3.0 -3.0\n",
      "1  4.0  3.0 -6.0\n",
      "2 -6.0  0.0 -3.0 \n",
      "\n",
      "      0     1    2\n",
      "0  63.0   4.0  0.0\n",
      "1   0.0  28.0  0.0\n",
      "2   0.0   0.0  0.0 \n",
      "\n",
      "          0     1    2\n",
      "0  1.285714  0.25  0.0\n",
      "1       inf  1.75  0.0\n",
      "2  0.000000   NaN  0.0 \n",
      "\n"
     ]
    }
   ],
   "source": [
    "import numpy as np\n",
    "import pandas as pd\n",
    "\n",
    "a = pd.DataFrame(np.random.randint(0, 10, (2, 2)))\n",
    "b = pd.DataFrame(np.random.randint(0, 10, (3, 3)))\n",
    "\n",
    "# a+b\n",
    "add = a.add(b, fill_value = 0)\n",
    "print(add,'\\n')\n",
    "\n",
    "# a-b\n",
    "sub = a.sub(b, fill_value = 0)\n",
    "print(sub,'\\n')\n",
    "\n",
    "# a*b\n",
    "mul = a.mul(b, fill_value = 0)\n",
    "print(mul,'\\n')\n",
    "\n",
    "# a/b\n",
    "div = a.div(b, fill_value = 0)\n",
    "print(div,'\\n')"
   ]
  },
  {
   "cell_type": "markdown",
   "metadata": {},
   "source": [
    "---\n",
    "### DataFrame 정렬\n",
    "\n",
    "    data.sort_values(by=None, #정렬할 기준 변수\n",
    "                     axis = 0, # 0 or 'index (by default), 1 or 'columns'\n",
    "                     ascending = True, # True:오름차순, False:내림차순\n",
    "                     inplace = False, # DataFrame 자체를 정렬해서 저장\n",
    "                     kind = 'quicksort', # 정렬 알고리즘\n",
    "                     na_position = 'last' # 결측값 위치, {'first','last'}"
   ]
  },
  {
   "cell_type": "code",
   "execution_count": 67,
   "metadata": {},
   "outputs": [
    {
     "name": "stdout",
     "output_type": "stream",
     "text": [
      "   sequence    id  age\n",
      "0         1  1101   30\n",
      "1         3  1109   20\n",
      "2         2  1113   40\n",
      "   sequence    id  age\n",
      "0         1  1101   30\n",
      "2         2  1113   40\n",
      "1         3  1109   20\n",
      "     id  age  sequence\n",
      "0  1101   30         1\n",
      "1  1109   20         3\n",
      "2  1113   40         2\n"
     ]
    }
   ],
   "source": [
    "import numpy as np\n",
    "import pandas as pd\n",
    "\n",
    "a = pd.DataFrame({'sequence': [1, 3, 2],'id': [1101,1109,1113],'age': [30, 20, 40]})\n",
    "print(a)\n",
    "\n",
    "# 'sequence' 열(by='sequence')을 기준으로 index(axis=0) 오름차순 정렬하기\n",
    "sort_sequence = a.sort_values('sequence', axis = 0)\n",
    "print(sort_sequence)\n",
    "\n",
    "# 0행을 기준으로 내림차순 정렬하기\n",
    "sort_0 = a.sort_values(0,axis=1,ascending = False)\n",
    "print(sort_0)"
   ]
  },
  {
   "cell_type": "markdown",
   "metadata": {},
   "source": [
    "---\n",
    "### 저장과 불러오기\n",
    "DataFrame을 csv, excel 파일로 저장하거나 불러올 수 있다.\n",
    "\n",
    "- data.to_csv('data.csv') / data.to_excel('data.xlsx')\n",
    "- pd.read_csv('data.csv') / pd.read_excel('data.xlsx')"
   ]
  }
 ],
 "metadata": {
  "kernelspec": {
   "display_name": "Python 3",
   "language": "python",
   "name": "python3"
  },
  "language_info": {
   "codemirror_mode": {
    "name": "ipython",
    "version": 3
   },
   "file_extension": ".py",
   "mimetype": "text/x-python",
   "name": "python",
   "nbconvert_exporter": "python",
   "pygments_lexer": "ipython3",
   "version": "3.7.3"
  }
 },
 "nbformat": 4,
 "nbformat_minor": 2
}
